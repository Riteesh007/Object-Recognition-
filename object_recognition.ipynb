{
 "cells": [
  {
   "cell_type": "code",
   "execution_count": 2,
   "id": "26603463",
   "metadata": {},
   "outputs": [],
   "source": [
    "# Import necessary libraries\n",
    "from tensorflow.keras.applications.vgg16 import VGG16, preprocess_input, decode_predictions\n",
    "from tensorflow.keras.preprocessing import image\n",
    "import numpy as np\n",
    "import matplotlib.pyplot as plt\n",
    "import matplotlib.image as mpimg\n",
    "import requests\n",
    "from PIL import Image"
   ]
  },
  {
   "cell_type": "code",
   "execution_count": 3,
   "id": "c2dcc44a",
   "metadata": {},
   "outputs": [],
   "source": [
    "# Function to load and preprocess an image\n",
    "def load_and_preprocess_image(img_path):\n",
    "    img = image.load_img(img_path, target_size=(224, 224))\n",
    "    img_array = image.img_to_array(img)\n",
    "    img_array = np.expand_dims(img_array, axis=0)\n",
    "    img_array = preprocess_input(img_array)\n",
    "    return img_array"
   ]
  },
  {
   "cell_type": "code",
   "execution_count": 4,
   "id": "766e053d",
   "metadata": {},
   "outputs": [],
   "source": [
    "# Function to classify an image using VGG16 model\n",
    "def classify_image(img_path, model):\n",
    "    img_array = load_and_preprocess_image(img_path)\n",
    "    predictions = model.predict(img_array)\n",
    "    decoded_predictions = decode_predictions(predictions, top=3)[0]\n",
    "    return decoded_predictions"
   ]
  },
  {
   "cell_type": "code",
   "execution_count": 5,
   "id": "f6a431a6",
   "metadata": {},
   "outputs": [],
   "source": [
    "# Function to print predictions\n",
    "def print_predictions(predictions):\n",
    "    for i, (imagenet_id, label, score) in enumerate(predictions):\n",
    "        print(f\"{i + 1}: {label} ({score:.2f})\")"
   ]
  },
  {
   "cell_type": "code",
   "execution_count": 6,
   "id": "7efa102c",
   "metadata": {},
   "outputs": [],
   "source": [
    "# Function to visualize predictions\n",
    "def visualize_predictions(img_path, predictions):\n",
    "    img = mpimg.imread(img_path)\n",
    "    plt.imshow(img)\n",
    "    plt.axis('off')\n",
    "\n",
    "    plt.title('Predictions')\n",
    "    for i, (imagenet_id, label, score) in enumerate(predictions):\n",
    "        plt.text(0, i * 40 + 20, f\"{label}: {score:.2f}\", color='white', backgroundcolor='black')\n",
    "\n",
    "    plt.show()"
   ]
  },
  {
   "cell_type": "code",
   "execution_count": 7,
   "id": "c8f204d2",
   "metadata": {},
   "outputs": [],
   "source": [
    "# Function to download an image from a URL\n",
    "def download_image(url, save_path):\n",
    "    response = requests.get(url, stream=True)\n",
    "    with open(save_path, 'wb') as file:\n",
    "        for chunk in response.iter_content(chunk_size=1024):\n",
    "            if chunk:\n",
    "                file.write(chunk)"
   ]
  },
  {
   "cell_type": "code",
   "execution_count": 8,
   "id": "70cf9b4e",
   "metadata": {},
   "outputs": [],
   "source": [
    "# Function to save the visualization to a file\n",
    "def save_visualization(img_path, predictions, save_path):\n",
    "    img = mpimg.imread(img_path)\n",
    "    plt.imshow(img)\n",
    "    plt.axis('off')\n",
    "\n",
    "    plt.title('Predictions')\n",
    "    for i, (imagenet_id, label, score) in enumerate(predictions):\n",
    "        plt.text(0, i * 40 + 20, f\"{label}: {score:.2f}\", color='white', backgroundcolor='black')\n",
    "\n",
    "    plt.savefig(save_path)\n",
    "    plt.close()\n",
    "    print(f\"Visualization saved to {save_path}\")\n"
   ]
  },
  {
   "cell_type": "code",
   "execution_count": 9,
   "id": "e3d4948f",
   "metadata": {},
   "outputs": [
    {
     "name": "stdout",
     "output_type": "stream",
     "text": [
      "1/1 [==============================] - 1s 863ms/step\n",
      "Predictions for single image:\n",
      "1: breakwater (0.25)\n",
      "2: lakeside (0.21)\n",
      "3: cliff (0.14)\n"
     ]
    }
   ],
   "source": [
    "# Load the pre-trained VGG16 model\n",
    "model = VGG16(weights='imagenet')\n",
    "\n",
    "# Single image classification example\n",
    "img_path = r\"C:\\Users\\user\\Downloads\\project_directory\\path\\to\\your\\image (3).jpg\"\n",
    "predictions = classify_image(img_path, model)\n",
    "\n",
    "print(\"Predictions for single image:\")\n",
    "print_predictions(predictions)"
   ]
  },
  {
   "cell_type": "code",
   "execution_count": null,
   "id": "691fa5eb",
   "metadata": {},
   "outputs": [],
   "source": [
    "# Visualize predictions for the single image\n",
    "visualize_predictions(img_path, predictions)"
   ]
  },
  {
   "cell_type": "code",
   "execution_count": null,
   "id": "05ef72e8",
   "metadata": {},
   "outputs": [],
   "source": [
    "# Save the visualization to a file\n",
    "save_path = r\"C:\\Users\\user\\Downloads\\project_directory\\Predictions.png\"\n",
    "save_visualization(img_path, predictions, save_path)"
   ]
  },
  {
   "cell_type": "code",
   "execution_count": null,
   "id": "412b5b0e",
   "metadata": {},
   "outputs": [],
   "source": []
  },
  {
   "cell_type": "code",
   "execution_count": null,
   "id": "fa5ae75d",
   "metadata": {},
   "outputs": [],
   "source": []
  },
  {
   "cell_type": "code",
   "execution_count": null,
   "id": "95cad502",
   "metadata": {},
   "outputs": [],
   "source": []
  }
 ],
 "metadata": {
  "kernelspec": {
   "display_name": "Python 3 (ipykernel)",
   "language": "python",
   "name": "python3"
  },
  "language_info": {
   "codemirror_mode": {
    "name": "ipython",
    "version": 3
   },
   "file_extension": ".py",
   "mimetype": "text/x-python",
   "name": "python",
   "nbconvert_exporter": "python",
   "pygments_lexer": "ipython3",
   "version": "3.10.13"
  }
 },
 "nbformat": 4,
 "nbformat_minor": 5
}
